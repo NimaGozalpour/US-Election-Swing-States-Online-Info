{
  "nbformat": 4,
  "nbformat_minor": 0,
  "metadata": {
    "colab": {
      "name": "USElection.ipynb",
      "provenance": [],
      "authorship_tag": "ABX9TyN7P+uoLtkqMGXpL2AAOM88"
    },
    "kernelspec": {
      "name": "python3",
      "display_name": "Python 3"
    }
  },
  "cells": [
    {
      "cell_type": "code",
      "metadata": {
        "id": "Jmj1fjOgUt9f",
        "outputId": "a3963441-8393-4e86-aa57-671663c9c1a7",
        "colab": {
          "base_uri": "https://localhost:8080/"
        }
      },
      "source": [
        "!pip install selenium\n",
        "!apt-get update # to update ubuntu to correctly run apt install\n",
        "!apt install chromium-chromedriver\n",
        "!cp /usr/lib/chromium-browser/chromedriver /usr/bin\n",
        "import sys\n",
        "sys.path.insert(0,'/usr/lib/chromium-browser/chromedriver')\n",
        "from selenium import webdriver\n",
        "from selenium.common.exceptions import TimeoutException\n",
        "from selenium.webdriver.support.ui import WebDriverWait\n",
        "from selenium.webdriver.support import expected_conditions as EC\n",
        "from selenium.webdriver.common.by import By\n",
        "import requests \n",
        "from bs4 import BeautifulSoup\n",
        "import time\n",
        "import math\n",
        "import pandas as pd\n",
        "from google.colab import drive\n",
        "drive.mount('drive')"
      ],
      "execution_count": 68,
      "outputs": [
        {
          "output_type": "stream",
          "text": [
            "Requirement already satisfied: selenium in /usr/local/lib/python3.6/dist-packages (3.141.0)\n",
            "Requirement already satisfied: urllib3 in /usr/local/lib/python3.6/dist-packages (from selenium) (1.24.3)\n",
            "Get:1 http://security.ubuntu.com/ubuntu bionic-security InRelease [88.7 kB]\n",
            "Ign:2 https://developer.download.nvidia.com/compute/cuda/repos/ubuntu1804/x86_64  InRelease\n",
            "Hit:3 https://cloud.r-project.org/bin/linux/ubuntu bionic-cran40/ InRelease\n",
            "Ign:4 https://developer.download.nvidia.com/compute/machine-learning/repos/ubuntu1804/x86_64  InRelease\n",
            "Hit:5 http://ppa.launchpad.net/c2d4u.team/c2d4u4.0+/ubuntu bionic InRelease\n",
            "Hit:6 https://developer.download.nvidia.com/compute/cuda/repos/ubuntu1804/x86_64  Release\n",
            "Hit:7 https://developer.download.nvidia.com/compute/machine-learning/repos/ubuntu1804/x86_64  Release\n",
            "Hit:8 http://archive.ubuntu.com/ubuntu bionic InRelease\n",
            "Hit:9 http://ppa.launchpad.net/graphics-drivers/ppa/ubuntu bionic InRelease\n",
            "Get:10 http://archive.ubuntu.com/ubuntu bionic-updates InRelease [88.7 kB]\n",
            "Get:11 http://archive.ubuntu.com/ubuntu bionic-backports InRelease [74.6 kB]\n",
            "Fetched 252 kB in 2s (151 kB/s)\n",
            "Reading package lists... Done\n",
            "Reading package lists... Done\n",
            "Building dependency tree       \n",
            "Reading state information... Done\n",
            "chromium-chromedriver is already the newest version (86.0.4240.75-0ubuntu0.18.04.1).\n",
            "0 upgraded, 0 newly installed, 0 to remove and 35 not upgraded.\n",
            "cp: '/usr/lib/chromium-browser/chromedriver' and '/usr/bin/chromedriver' are the same file\n",
            "Drive already mounted at drive; to attempt to forcibly remount, call drive.mount(\"drive\", force_remount=True).\n"
          ],
          "name": "stdout"
        }
      ]
    },
    {
      "cell_type": "code",
      "metadata": {
        "id": "uqchUbFiQonx",
        "outputId": "10f3d9bf-72e7-4f0a-a60e-a122b595d518",
        "colab": {
          "base_uri": "https://localhost:8080/"
        }
      },
      "source": [
        "chrome_options = webdriver.ChromeOptions()\n",
        "chrome_options.add_argument('--headless')\n",
        "chrome_options.add_argument('--no-sandbox')\n",
        "chrome_options.add_argument('--disable-dev-shm-usage')\n",
        "driver = webdriver.Chrome('chromedriver',chrome_options=chrome_options)\n",
        "while True:\n",
        "  driver.get('https://www.google.com/search?q=us+election+results&oq=us+election+results&aqs=chrome.0.69i59j0i131i433l6j69i60.8640j0j9&sourceid=chrome&ie=UTF-8')\n",
        "  timeout = 3\n",
        "  try:\n",
        "      element_present = EC.presence_of_element_located((By.ID, '_83GlX73aK5_G4-EPqtC9uAQ95'))\n",
        "      WebDriverWait(driver, timeout).until(element_present)\n",
        "  except TimeoutException:\n",
        "      print(\"Timed out waiting for page to load\")\n",
        "  finally:\n",
        "      print(\"Page loaded\")\n",
        "      userid_element = driver.find_elements_by_xpath('//div[@Style=\"width:172px;text-align:center\"]')[0]\n",
        "      userid_element.click()\n",
        "      time.sleep(1)\n",
        "      userid_element = driver.find_elements_by_xpath('//span[@class=\"PLaf5\"]')\n",
        "      userid_element1 = driver.find_elements_by_xpath('//span[@class=\"E2WDKf\"]')\n",
        "\n",
        "\n",
        "      data = []\n",
        "      for i in userid_element:\n",
        "        if i.text != \"\":\n",
        "          data.append(i.text)\n",
        "      for i in userid_element1:\n",
        "        if i.text != \"\":\n",
        "          data.append(int(i.text.replace('% reporting','')))\n",
        "      for i in range(int(len(data)/2)):\n",
        "        data.append(int(driver.find_elements_by_xpath('//div[@class=\"oLhH0e\"]')[i].find_elements_by_tag_name('span')[1].text.replace(',','')))\n",
        "        data.append(int(driver.find_elements_by_xpath('//div[@class=\"oLhH0e\"]')[i].find_elements_by_tag_name('span')[3].text.replace(',','')))\n",
        "\n",
        "\n",
        "\n",
        "      print(data)\n",
        "      rawData = []\n",
        "      for i in range(int(len(data)/4)):\n",
        "        d = []\n",
        "        for j in range(2):\n",
        "          d.append(data[i+j*6])\n",
        "        d.append(data[12+i*2])\n",
        "        d.append(data[13+i*2])\n",
        "        rawData.append(d)\n",
        "      print(rawData)\n",
        "\n",
        "      \n",
        "      info =[]\n",
        "      data = rawData\n",
        "      for i in range(len(data)):\n",
        "        raw = data[i]\n",
        "        d =[]\n",
        "        d.append(raw[0])\n",
        "        diff = raw[2] - raw[3]\n",
        "        percent = raw[1]/100.0\n",
        "        uncountedVotes = math.floor((raw[2]+raw[3])*(1-percent)/percent)\n",
        "        if diff < 0:\n",
        "          voteNeeded = math.ceil(((uncountedVotes + diff)/2) -diff)\n",
        "        else:\n",
        "          voteNeeded = math.ceil(((uncountedVotes - diff)/2))\n",
        "\n",
        "        percentNeeded = voteNeeded/(uncountedVotes*1.0)\n",
        "        d.append(str(raw[1])+\"%\")\n",
        "        d.append(raw[2])\n",
        "        d.append(raw[3])\n",
        "        if percentNeeded < 1 and voteNeeded > 0:\n",
        "          d.append(uncountedVotes)\n",
        "          d.append(voteNeeded)\n",
        "          d.append(str(math.ceil(percentNeeded*1000)/10.0)+\"%\")\n",
        "          d.append(uncountedVotes+1-voteNeeded)\n",
        "          d.append(str(math.ceil((((uncountedVotes+1-voteNeeded)/uncountedVotes)*1000))/10.0)+\"%\")\n",
        "          info.append(d)\n",
        "          print(d)\n",
        "        elif voteNeeded <= 0:\n",
        "          d.append(uncountedVotes)\n",
        "          d.append('Already Won')\n",
        "          d.append('Already Won')\n",
        "          d.append('Impossible to Win in This World')\n",
        "          d.append('Impossible to Win in This World')\n",
        "          info.append(d)\n",
        "          print(d)\n",
        "        elif percentNeeded >= 1:\n",
        "          d.append(uncountedVotes)\n",
        "          d.append('Impossible to Win in This World')\n",
        "          d.append('Impossible to Win in This World')\n",
        "          d.append('Already Won')\n",
        "          d.append('Already Won')\n",
        "          info.append(d)\n",
        "          print(d)\n",
        "\n",
        "      print(info)\n",
        "      df = pd.DataFrame (info,columns=['State Name','Percentage of Counted Votes','Counted Votes for Biden','Counted Votes for Trump','Uncounted Votes','Vote Biden Needed to Win','Percentage of Uncounted Vote Biden Needed to Win','Vote Trump Needed to Win','Percentage of Uncounted Vote Biden Needed to Win'])\n",
        "      mainPath =r'drive/My Drive/New Folder'\n",
        "      csvPath =mainPath+\"/\"+\"USElectionSwingState.csv\"\n",
        "      df.to_csv(csvPath)\n",
        "      time.sleep(120)"
      ],
      "execution_count": null,
      "outputs": [
        {
          "output_type": "stream",
          "text": [
            "/usr/local/lib/python3.6/dist-packages/ipykernel_launcher.py:5: DeprecationWarning: use options instead of chrome_options\n",
            "  \"\"\"\n"
          ],
          "name": "stderr"
        },
        {
          "output_type": "stream",
          "text": [
            "Timed out waiting for page to load\n",
            "Page loaded\n",
            "['Georgia', 'Nevada', 'North Carolina', 'Pennsylvania', 'Arizona', 'Florida', 99, 87, 99, 98, 90, 99, 2455426, 2451191, 627104, 606967, 2655629, 2732302, 3315745, 3301204, 1565200, 1525800, 5284453, 5658847]\n",
            "[['Georgia', 99, 2455426, 2451191], ['Nevada', 87, 627104, 606967], ['North Carolina', 99, 2655629, 2732302], ['Pennsylvania', 98, 3315745, 3301204], ['Arizona', 90, 1565200, 1525800], ['Florida', 99, 5284453, 5658847]]\n",
            "['Georgia', '99%', 2455426, 2451191, 49561, 22663, '45.8%', 26899, '54.3%']\n",
            "['Nevada', '87%', 627104, 606967, 184401, 82132, '44.6%', 102270, '55.5%']\n",
            "['North Carolina', '99%', 2655629, 2732302, 54423, 'Impossible to Win in This World', 'Impossible to Win in This World', 'Already Won', 'Already Won']\n",
            "['Pennsylvania', '98%', 3315745, 3301204, 135039, 60249, '44.7%', 74791, '55.4%']\n",
            "['Arizona', '90%', 1565200, 1525800, 343444, 152022, '44.3%', 191423, '55.8%']\n",
            "['Florida', '99%', 5284453, 5658847, 110538, 'Impossible to Win in This World', 'Impossible to Win in This World', 'Already Won', 'Already Won']\n",
            "[['Georgia', '99%', 2455426, 2451191, 49561, 22663, '45.8%', 26899, '54.3%'], ['Nevada', '87%', 627104, 606967, 184401, 82132, '44.6%', 102270, '55.5%'], ['North Carolina', '99%', 2655629, 2732302, 54423, 'Impossible to Win in This World', 'Impossible to Win in This World', 'Already Won', 'Already Won'], ['Pennsylvania', '98%', 3315745, 3301204, 135039, 60249, '44.7%', 74791, '55.4%'], ['Arizona', '90%', 1565200, 1525800, 343444, 152022, '44.3%', 191423, '55.8%'], ['Florida', '99%', 5284453, 5658847, 110538, 'Impossible to Win in This World', 'Impossible to Win in This World', 'Already Won', 'Already Won']]\n"
          ],
          "name": "stdout"
        }
      ]
    }
  ]
}